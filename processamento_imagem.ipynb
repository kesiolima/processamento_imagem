{
 "cells": [
  {
   "cell_type": "code",
   "execution_count": 59,
   "metadata": {},
   "outputs": [],
   "source": [
    "from PIL import Image\n",
    "from PIL import ImageFilter\n",
    "import os\n",
    "import numpy as np\n",
    "from math import sqrt\n",
    "import argparse\n",
    "import cv2\n",
    "\n",
    "INPUT_DIR = \"input\"\n",
    "OUTPUT_DIR = \"output\"\n",
    "\n",
    "def in_file(filename):\n",
    "    return os.path.join(INPUT_DIR, filename)\n",
    "def out_file(filename):\n",
    "    return os.path.join(OUTPUT_DIR, filename)\n",
    "\n",
    "def show_vertical(img1, img2):\n",
    "    img = Image.fromarray(np.vstack((np.array(img1),np.array(img2))))\n",
    "    img.show()\n",
    "    return img\n",
    "\n",
    "def show_horizontal(img1, img2):\n",
    "    img = Image.fromarray(np.hstack((np.array(img1),np.array(img2))))\n",
    "    img.show()\n",
    "    return img\n",
    "\n"
   ]
  },
  {
   "cell_type": "code",
   "execution_count": null,
   "metadata": {},
   "outputs": [],
   "source": [
    "image = Image.open(\"balao.jpeg\")\n",
    "\n",
    "#Mostra a imagem\n",
    "image.show()\n",
    "\n",
    "#Mostra o valor do pixel\n",
    "print(image.getpixel((500,500)))"
   ]
  },
  {
   "cell_type": "code",
   "execution_count": 3,
   "metadata": {},
   "outputs": [
    {
     "name": "stdout",
     "output_type": "stream",
     "text": [
      "(194, 193, 188)\n"
     ]
    }
   ],
   "source": [
    "\n",
    "\n",
    "#retorna o endereco relativo da pasta\n",
    "def in_path(filename):\n",
    "    return os.path.join(INPUT_DIR, filename)\n",
    "\n",
    "image = Image.open(in_path(\"EU.jpg\"))\n",
    "print(image.getpixel((500,500)))\n"
   ]
  },
  {
   "cell_type": "code",
   "execution_count": null,
   "metadata": {},
   "outputs": [],
   "source": [
    "def triangulo(size):\n",
    "    branco = (255,255,255)\n",
    "    preto = (0,0,0)\n",
    "    image = Image.new(\"RGB\",(size, size), branco)\n",
    "    \n",
    "    for x in range(size):\n",
    "        for y in range(size):\n",
    "            if x < y:\n",
    "                image.putpixel((x,y),preto)\n",
    "    return image\n",
    "\n",
    "triangulo(700)\n",
    "\n"
   ]
  },
  {
   "cell_type": "code",
   "execution_count": 18,
   "metadata": {},
   "outputs": [],
   "source": [
    "def bandeira_franca(altura):\n",
    "    #razao = 3/2\n",
    "    largura = 3 * altura // 2\n",
    "    barras = largura // 3\n",
    "    azul = (0,85,164)\n",
    "    branco = (255,255,255)\n",
    "    vermelho = (239,65,53)\n",
    "\n",
    "    image = Image.new(\"RGB\",(largura,altura), branco)\n",
    "    for x in range(barras):\n",
    "        for y in range(altura):\n",
    "            image.putpixel((x,y),azul)\n",
    "            image.putpixel((x + 2 * barras, y), vermelho)\n",
    "    \n",
    "    image.show()\n",
    "\n",
    "bandeira_franca(700)"
   ]
  },
  {
   "cell_type": "code",
   "execution_count": 46,
   "metadata": {},
   "outputs": [],
   "source": [
    "def bandeirajapao(altura):\n",
    "    largura = 3 * altura // 2\n",
    "    branco = (255,255,255)\n",
    "    vermelho = (173,35,51)\n",
    "    cinza = (51,51,51)\n",
    "    raio = (3 * altura // 10 )\n",
    "    centro = (largura // 2, altura // 2) \n",
    "\n",
    "    image = Image.new(\"RGB\",(largura,altura), branco)\n",
    "    for x in range(centro[0]-raio,centro[0]+raio):\n",
    "\n",
    "        for y in range(centro[1]-raio,centro[1]+raio):\n",
    "\n",
    "            if (x-centro[0])**2 + (y-centro[1])**2 <= raio**2:\n",
    "                image.putpixel(((x,y)),vermelho) \n",
    "    image.show()\n",
    "    \n",
    "\n",
    "bandeirajapao(700)"
   ]
  },
  {
   "cell_type": "code",
   "execution_count": 78,
   "metadata": {},
   "outputs": [],
   "source": [
    "def escala_cinza(img_color):\n",
    "    width, heigth = img_color.size\n",
    "    img = Image.new(\"RGB\",(width, heigth))\n",
    "\n",
    "    for x in range(width):\n",
    "        for y in range(heigth):\n",
    "            pxl = img_color.getpixel((x, y))\n",
    "            lum = (pxl[0]+pxl[1]+pxl[2])//3\n",
    "            img.putpixel((x,y),(lum,lum,lum))\n",
    "    return img\n",
    "\n",
    "baloes = Image.open(in_file(\"balao.jpeg\"))\n",
    "pb_balao = escala_cinza(baloes)\n",
    "pb_balao.save(out_file(\"pb_balao.jpeg\"))\n",
    "pb_balao.show()\n",
    "\n",
    "\n"
   ]
  },
  {
   "cell_type": "code",
   "execution_count": 83,
   "metadata": {},
   "outputs": [],
   "source": [
    "# width largura, heigth altura\n",
    "def escala_cinza(img_color):\n",
    "    width, heigth = img_color.size\n",
    "    img = Image.new(\"RGB\",(width, heigth))\n",
    "\n",
    "    for x in range(width):\n",
    "        for y in range(heigth):\n",
    "            pxl = img_color.getpixel((x, y))\n",
    "            lum = int(0.3 * pxl[0] + 0.59 * pxl[1]+ 0.11 * pxl[2])\n",
    "            img.putpixel((x,y),(lum,lum,lum))\n",
    "    return img\n",
    "\n",
    "baloes = Image.open(in_file(\"balao.jpeg\"))\n",
    "baloes.show()\n",
    "pb_balao = escala_cinza(baloes)\n",
    "pb_balao.save(out_file(\"pb_balao.jpeg\"))\n",
    "pb_balao.show()\n"
   ]
  },
  {
   "cell_type": "code",
   "execution_count": 24,
   "metadata": {},
   "outputs": [],
   "source": [
    "#Filtro convolucional\n",
    "\n",
    "def show_box_blur(filename, r=1):\n",
    "    original = Image.open(os.path.join(INPUT_DIR,filename))\n",
    "    filtrado = original.filter(ImageFilter.BoxBlur(r))\n",
    "\n",
    "    show_vertical(original,filtrado)\n",
    "    filtrado.save(os.path.join(OUTPUT_DIR,'{}_boxblur_{}.jpeg'.format(filename[:filename.index('.')],r)))\n",
    "\n",
    "show_box_blur('balao.jpeg',7)\n"
   ]
  },
  {
   "cell_type": "code",
   "execution_count": 60,
   "metadata": {},
   "outputs": [],
   "source": [
    "# Detectando Arestas\n",
    "\n",
    "def show_vertical_edges(filename, offset=1):\n",
    "    '''Abre o original e convert para escala de cinza'''\n",
    "    original = Image.open(os.path.join(INPUT_DIR,filename)).convert('L')\n",
    "    filtrado = original.filter(ImageFilter.Kernel(\n",
    "        (3,3),\n",
    "        [-1,0,1,\n",
    "         -2,0,2,\n",
    "         -1,0,1],\n",
    "         1,\n",
    "         offset))\n",
    "\n",
    "    show_vertical(original,filtrado)\n",
    "    filtrado.save(os.path.join(OUTPUT_DIR,'{}_vsobel_{}.jpeg'.format(filename[:filename.index('.')],offset)))\n",
    "\n",
    "\n",
    "def show_edges(filename, direction='x',offset=0):\n",
    "    '''Abre o original e convert para escala de cinza'''\n",
    "    original = Image.open(os.path.join(INPUT_DIR,filename)).convert('L')\n",
    "    XSOBEL = ImageFilter.Kernel(\n",
    "        (3,3),\n",
    "        [-1,0,1,\n",
    "         -2,0,2,\n",
    "         -1,0,1],\n",
    "         1,\n",
    "         offset)\n",
    "    YSOBEL = ImageFilter.Kernel(\n",
    "        (3,3),\n",
    "        [-1,-2,1,\n",
    "         0,0,0,\n",
    "         -1,-2,1],\n",
    "         1,\n",
    "         offset)\n",
    "    if direction == 'x':\n",
    "        filtrado = original.filter(XSOBEL)\n",
    "    elif direction == 'y':\n",
    "        filtrado = original.filter(YSOBEL)\n",
    "    else:\n",
    "        vsobel = original.filter(XSOBEL)\n",
    "        hsobel = original.filter(YSOBEL)\n",
    "        w, h = original.size\n",
    "        filtrado = Image.new('L',(w,h))\n",
    "\n",
    "        for i in range(w):\n",
    "            for j in range(h):\n",
    "                value = sqrt(\n",
    "                    vsobel.getpixel((i,j))**2 + hsobel.getpixel((i,j))**2)\n",
    "                value = int(min(value, 255))\n",
    "                filtrado.putpixel((i,j), value)\n",
    "\n",
    "\n",
    "    show_vertical(original,filtrado)\n",
    "    filtrado.save(os.path.join(OUTPUT_DIR,'{}_{}vsobel_{}.jpeg'.format(filename[:filename.index('.')],direction,offset)))\n",
    "\n",
    "\n",
    "show_edges('estrada.jpg','t',0)"
   ]
  },
  {
   "cell_type": "code",
   "execution_count": 64,
   "metadata": {},
   "outputs": [],
   "source": [
    "# chroma key\n",
    "#retorna o endereco relativo da pasta\n",
    "def in_path(filename):\n",
    "    return os.path.join(INPUT_DIR, filename)\n",
    "\n",
    "original = Image.open(in_path(\"balao.jpeg\")).convert()\n",
    "w, h = original.size\n",
    "modificada = Image.new('L',(w,h))\n",
    "\n",
    "for i in range(w):\n",
    "    for j in range(h):\n",
    "        if original.getpixel((i,j))[0] <= 120:\n",
    "            valor = 0\n",
    "        else:\n",
    "            valor = 255\n",
    "        modificada.putpixel((i,j),valor)\n",
    "\n",
    "\n",
    "#original.show()\n",
    "#modificada.show()\n",
    "#show_vertical(original,modificada)\n",
    "modificada.save(os.path.join(OUTPUT_DIR,'balao_binaria.jpeg'))\n",
    "\n"
   ]
  },
  {
   "cell_type": "code",
   "execution_count": 28,
   "metadata": {},
   "outputs": [
    {
     "name": "stdout",
     "output_type": "stream",
     "text": [
      "1920 1080\n"
     ]
    }
   ],
   "source": []
  }
 ],
 "metadata": {
  "kernelspec": {
   "display_name": "Python 3",
   "language": "python",
   "name": "python3"
  },
  "language_info": {
   "codemirror_mode": {
    "name": "ipython",
    "version": 3
   },
   "file_extension": ".py",
   "mimetype": "text/x-python",
   "name": "python",
   "nbconvert_exporter": "python",
   "pygments_lexer": "ipython3",
   "version": "3.12.4"
  }
 },
 "nbformat": 4,
 "nbformat_minor": 2
}
